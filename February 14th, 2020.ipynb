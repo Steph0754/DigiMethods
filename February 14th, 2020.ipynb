{
 "cells": [
  {
   "cell_type": "markdown",
   "metadata": {},
   "source": [
    "# February 14th, 2020"
   ]
  },
  {
   "cell_type": "markdown",
   "metadata": {},
   "source": [
    "## Containers"
   ]
  },
  {
   "cell_type": "markdown",
   "metadata": {},
   "source": [
    "### Lists"
   ]
  },
  {
   "cell_type": "code",
   "execution_count": 1,
   "metadata": {},
   "outputs": [],
   "source": [
    "even_numbers = [2,4,6]"
   ]
  },
  {
   "cell_type": "code",
   "execution_count": 10,
   "metadata": {},
   "outputs": [
    {
     "name": "stdout",
     "output_type": "stream",
     "text": [
      "[2, 4, 6, 8]\n"
     ]
    },
    {
     "data": {
      "text/plain": [
       "4"
      ]
     },
     "execution_count": 10,
     "metadata": {},
     "output_type": "execute_result"
    }
   ],
   "source": [
    "#If we don't want the number to be added several times, put the list in the same cell as the testing you're doing.\n",
    "#Then it defines the list again before running the next piece of code.\n",
    "\n",
    "even_numbers = [2,4,6]\n",
    "even_numbers.append(8)\n",
    "\n",
    "print(even_numbers)\n",
    "\n",
    "#Accessing\n",
    "even_numbers[1]"
   ]
  },
  {
   "cell_type": "markdown",
   "metadata": {},
   "source": [
    "### Strings"
   ]
  },
  {
   "cell_type": "code",
   "execution_count": 14,
   "metadata": {},
   "outputs": [
    {
     "data": {
      "text/plain": [
       "'of'"
      ]
     },
     "execution_count": 14,
     "metadata": {},
     "output_type": "execute_result"
    }
   ],
   "source": [
    "#When going backwards, we don't start counting from 0, but from -1. \n",
    "\n",
    "list_of_strings = [\"this\", \"is\", \"a\", \"list\", \"of\", \"strings\"]\n",
    "\n",
    "list_of_strings[-2]"
   ]
  },
  {
   "cell_type": "code",
   "execution_count": 17,
   "metadata": {},
   "outputs": [
    {
     "data": {
      "text/plain": [
       "\"'m\""
      ]
     },
     "execution_count": 17,
     "metadata": {},
     "output_type": "execute_result"
    }
   ],
   "source": [
    "#When using the slicing, it doesn't include the last number (in this case number 3)\n",
    "\n",
    "my_string = \"I'm a string\"\n",
    "my_string [1:3]"
   ]
  },
  {
   "cell_type": "code",
   "execution_count": 20,
   "metadata": {},
   "outputs": [
    {
     "data": {
      "text/plain": [
       "['http:',\n",
       " '',\n",
       " 'localhost:8889',\n",
       " 'notebooks',\n",
       " 'Documents',\n",
       " 'GitHub',\n",
       " 'DigiMethods',\n",
       " 'Untitled.ipynb?kernel_name=python3']"
      ]
     },
     "execution_count": 20,
     "metadata": {},
     "output_type": "execute_result"
    }
   ],
   "source": [
    "#Splitting at a specific characters\n",
    "my_url = \"http://localhost:8889/notebooks/Documents/GitHub/DigiMethods/Untitled.ipynb?kernel_name=python3\"\n",
    "my_url.split(\"/\")"
   ]
  },
  {
   "cell_type": "markdown",
   "metadata": {},
   "source": [
    "### Tuples"
   ]
  },
  {
   "cell_type": "code",
   "execution_count": 21,
   "metadata": {},
   "outputs": [],
   "source": [
    "#A tuple is a list that can't be changed\n",
    "#To find a position of a list in a list, then: NAME [1][1]"
   ]
  },
  {
   "cell_type": "markdown",
   "metadata": {},
   "source": [
    "### Dictionaries"
   ]
  },
  {
   "cell_type": "code",
   "execution_count": 22,
   "metadata": {},
   "outputs": [],
   "source": [
    "my_dictionary = {\"use\": 1, \"curly\": 2, \"brackets\": 3}"
   ]
  },
  {
   "cell_type": "markdown",
   "metadata": {},
   "source": [
    "If we have a list and want to make it into a dictionary, we can use the command:\n",
    "\n",
    "* keys = [keys here]\n",
    "* values = [values here]\n",
    "* key_values = list(zip(keys,values))\n",
    "\n",
    "This make them into tuples. \n",
    "\n",
    "Then we turn it into a dictionary by writing:\n",
    "my_dictionary = dict(key_values)"
   ]
  },
  {
   "cell_type": "code",
   "execution_count": 23,
   "metadata": {},
   "outputs": [],
   "source": [
    "#String and tuples are immutable while lists and dictionaries and mutable\n",
    "#Tuples = ()\n",
    "#Lits = []\n",
    "#Dictionaries = {\"key1\": \"something\", \"key2\": \"something else\"}"
   ]
  },
  {
   "cell_type": "markdown",
   "metadata": {},
   "source": [
    "## Loops"
   ]
  },
  {
   "cell_type": "code",
   "execution_count": 24,
   "metadata": {},
   "outputs": [
    {
     "name": "stdout",
     "output_type": "stream",
     "text": [
      "31.2\n"
     ]
    }
   ],
   "source": [
    "ages = [26, 21, 44, 28, 37]\n",
    "avg_age = 0\n",
    "\n",
    "for i in ages:\n",
    "    avg_age += i\n",
    "\n",
    "avg_age /= len(ages)\n",
    "\n",
    "print(avg_age)"
   ]
  },
  {
   "cell_type": "code",
   "execution_count": 25,
   "metadata": {},
   "outputs": [
    {
     "name": "stdout",
     "output_type": "stream",
     "text": [
      "-6\n"
     ]
    }
   ],
   "source": [
    "#my_var = my_var + 1 does the same as my_var += 1\n",
    "\n",
    "my_var = 0\n",
    "my_var = my_var - 2\n",
    "my_var *= 3\n",
    "\n",
    "print(my_var)"
   ]
  },
  {
   "cell_type": "code",
   "execution_count": 26,
   "metadata": {},
   "outputs": [
    {
     "data": {
      "text/plain": [
       "5"
      ]
     },
     "execution_count": 26,
     "metadata": {},
     "output_type": "execute_result"
    }
   ],
   "source": [
    "#Variables can't have names that are protected words such as for, list, print, if (if it turns green or purple,\n",
    "#it's probably protected)\n",
    "\n",
    "#len is used to find the length of something\n",
    "my_string = \"hello\"\n",
    "len(my_string)"
   ]
  },
  {
   "cell_type": "code",
   "execution_count": 27,
   "metadata": {},
   "outputs": [
    {
     "data": {
      "text/plain": [
       "'Hello'"
      ]
     },
     "execution_count": 27,
     "metadata": {},
     "output_type": "execute_result"
    }
   ],
   "source": [
    "#Method\n",
    "my_string = \"hello\"\n",
    "\n",
    "#Fuction\n",
    "my_string = \"hello\"\n",
    "my_string.capitalize()\n",
    "\n",
    "#This distinction is important when looking things up and in writing the code\n",
    "#Functions: float(), int(), str(), zip()"
   ]
  },
  {
   "cell_type": "markdown",
   "metadata": {},
   "source": [
    "Use print if you just want to see what it is, and just the name of the variable if you want to assign it to\n",
    "something. \n",
    "\n",
    "Some methods change the original object. An example of this is LIST.append"
   ]
  },
  {
   "cell_type": "code",
   "execution_count": 31,
   "metadata": {},
   "outputs": [
    {
     "name": "stdout",
     "output_type": "stream",
     "text": [
      "31.2\n"
     ]
    }
   ],
   "source": [
    "#while loops\n",
    "\n",
    "count = 0\n",
    "avg_age = 0\n",
    "\n",
    "while count<len(ages):\n",
    "    avg_age += ages[count]\n",
    "    count += 1\n",
    "avg_age /= len(ages)\n",
    "print(avg_age)"
   ]
  },
  {
   "cell_type": "markdown",
   "metadata": {},
   "source": [
    "If the example above, we HAVE to use a > in the first line of the loop. We have 0 indexing, so if we wrote less than or equal too, it would actually go past the list. "
   ]
  },
  {
   "cell_type": "code",
   "execution_count": 33,
   "metadata": {},
   "outputs": [
    {
     "name": "stdout",
     "output_type": "stream",
     "text": [
      "An invalid age was entered\n",
      "34.75\n"
     ]
    }
   ],
   "source": [
    "ages2 = [4, 55, -3, 80]\n",
    "count = 0\n",
    "avg_age2 = 0\n",
    "while count<len(ages2):\n",
    "    if ages2[count] < 0: \n",
    "        print(\"An invalid age was entered\")\n",
    "    else: \n",
    "        avg_age2 += ages2[count]\n",
    "    count += 1\n",
    "avg_age2 /= len(ages2)\n",
    "print(avg_age2)\n",
    "\n",
    "#This is giving a wrong answer. In the last line, it counts the total amount of people on the list and devides the\n",
    "#age with this. Therefore there's a problem with the result."
   ]
  },
  {
   "cell_type": "code",
   "execution_count": null,
   "metadata": {},
   "outputs": [],
   "source": []
  }
 ],
 "metadata": {
  "kernelspec": {
   "display_name": "Python 3",
   "language": "python",
   "name": "python3"
  },
  "language_info": {
   "codemirror_mode": {
    "name": "ipython",
    "version": 3
   },
   "file_extension": ".py",
   "mimetype": "text/x-python",
   "name": "python",
   "nbconvert_exporter": "python",
   "pygments_lexer": "ipython3",
   "version": "3.7.4"
  }
 },
 "nbformat": 4,
 "nbformat_minor": 2
}
