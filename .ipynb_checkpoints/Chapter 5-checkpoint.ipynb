{
 "cells": [
  {
   "cell_type": "markdown",
   "metadata": {},
   "source": [
    "# Chapter 5"
   ]
  },
  {
   "cell_type": "markdown",
   "metadata": {},
   "source": [
    "## General purpose commands"
   ]
  },
  {
   "cell_type": "markdown",
   "metadata": {},
   "source": [
    "There are some useful commands that you can use:"
   ]
  },
  {
   "cell_type": "code",
   "execution_count": 1,
   "metadata": {},
   "outputs": [
    {
     "data": {
      "text/plain": [
       "5"
      ]
     },
     "execution_count": 1,
     "metadata": {},
     "output_type": "execute_result"
    }
   ],
   "source": [
    "#Gives the maximum value of the set:\n",
    "max(1, 2, 3, 4, 5)"
   ]
  },
  {
   "cell_type": "code",
   "execution_count": 2,
   "metadata": {},
   "outputs": [
    {
     "data": {
      "text/plain": [
       "1"
      ]
     },
     "execution_count": 2,
     "metadata": {},
     "output_type": "execute_result"
    }
   ],
   "source": [
    "#Gives the minimum value of the set:\n",
    "min(1, 2, 3, 4, 5)"
   ]
  },
  {
   "cell_type": "code",
   "execution_count": 7,
   "metadata": {},
   "outputs": [
    {
     "data": {
      "text/plain": [
       "1"
      ]
     },
     "execution_count": 7,
     "metadata": {},
     "output_type": "execute_result"
    }
   ],
   "source": [
    "#Makes the value positive:\n",
    "abs(-1)"
   ]
  },
  {
   "cell_type": "code",
   "execution_count": 8,
   "metadata": {},
   "outputs": [],
   "source": [
    "#Shows you the type of object:\n",
    "type(-50.5)"
   ]
  },
  {
   "cell_type": "code",
   "execution_count": 14,
   "metadata": {},
   "outputs": [
    {
     "data": {
      "text/plain": [
       "17"
      ]
     },
     "execution_count": 14,
     "metadata": {},
     "output_type": "execute_result"
    }
   ],
   "source": [
    "#Gives you the lenght of the object:\n",
    "len(\"This is a string.\")"
   ]
  },
  {
   "cell_type": "code",
   "execution_count": 10,
   "metadata": {},
   "outputs": [],
   "source": [
    "var1 = (2, 3, 1, 6, 3, 6, 3, 5)"
   ]
  },
  {
   "cell_type": "code",
   "execution_count": 11,
   "metadata": {},
   "outputs": [
    {
     "data": {
      "text/plain": [
       "1"
      ]
     },
     "execution_count": 11,
     "metadata": {},
     "output_type": "execute_result"
    }
   ],
   "source": [
    "min(var1)"
   ]
  },
  {
   "cell_type": "code",
   "execution_count": 12,
   "metadata": {},
   "outputs": [
    {
     "data": {
      "text/plain": [
       "6"
      ]
     },
     "execution_count": 12,
     "metadata": {},
     "output_type": "execute_result"
    }
   ],
   "source": [
    "max(var1)"
   ]
  },
  {
   "cell_type": "code",
   "execution_count": 13,
   "metadata": {},
   "outputs": [
    {
     "data": {
      "text/plain": [
       "8"
      ]
     },
     "execution_count": 13,
     "metadata": {},
     "output_type": "execute_result"
    }
   ],
   "source": [
    "len(var1)"
   ]
  },
  {
   "cell_type": "code",
   "execution_count": 16,
   "metadata": {},
   "outputs": [
    {
     "data": {
      "text/plain": [
       "tuple"
      ]
     },
     "execution_count": 16,
     "metadata": {},
     "output_type": "execute_result"
    }
   ],
   "source": [
    "type(var1)"
   ]
  },
  {
   "cell_type": "markdown",
   "metadata": {},
   "source": [
    "Here we see that the type is a tuple. This basically just means that it's a collection of data. this will be returned to later on."
   ]
  },
  {
   "cell_type": "markdown",
   "metadata": {},
   "source": [
    "## Lists"
   ]
  },
  {
   "cell_type": "markdown",
   "metadata": {},
   "source": [
    "Lists is made with the square brackets and can include any kind of object, including strings. Those types of objects can also be mixed with each other. "
   ]
  },
  {
   "cell_type": "code",
   "execution_count": 27,
   "metadata": {},
   "outputs": [],
   "source": [
    "animals = [\"dog\", \"cat\", \"bat\"]"
   ]
  },
  {
   "cell_type": "code",
   "execution_count": 18,
   "metadata": {},
   "outputs": [
    {
     "data": {
      "text/plain": [
       "['dog', 'cat', 'bat']"
      ]
     },
     "execution_count": 18,
     "metadata": {},
     "output_type": "execute_result"
    }
   ],
   "source": [
    "animals"
   ]
  },
  {
   "cell_type": "markdown",
   "metadata": {},
   "source": [
    "There are different commands that can be used for the dictionary. Calling out \"animals\" like above just tells you the list. Here are other commands:"
   ]
  },
  {
   "cell_type": "code",
   "execution_count": 19,
   "metadata": {},
   "outputs": [
    {
     "data": {
      "text/plain": [
       "'bat'"
      ]
     },
     "execution_count": 19,
     "metadata": {},
     "output_type": "execute_result"
    }
   ],
   "source": [
    "#Calls the value at index position 2\n",
    "animals[2]"
   ]
  },
  {
   "cell_type": "code",
   "execution_count": 20,
   "metadata": {},
   "outputs": [
    {
     "data": {
      "text/plain": [
       "'dog'"
      ]
     },
     "execution_count": 20,
     "metadata": {},
     "output_type": "execute_result"
    }
   ],
   "source": [
    "#Calls the first entry in the list (because zero-indexing)\n",
    "animals[0]"
   ]
  },
  {
   "cell_type": "code",
   "execution_count": 21,
   "metadata": {},
   "outputs": [
    {
     "data": {
      "text/plain": [
       "'bat'"
      ]
     },
     "execution_count": 21,
     "metadata": {},
     "output_type": "execute_result"
    }
   ],
   "source": [
    "#Calls the last item on the list\n",
    "animals[-1]"
   ]
  },
  {
   "cell_type": "code",
   "execution_count": 28,
   "metadata": {},
   "outputs": [
    {
     "data": {
      "text/plain": [
       "['dog', 'cat', 'rat']"
      ]
     },
     "execution_count": 28,
     "metadata": {},
     "output_type": "execute_result"
    }
   ],
   "source": [
    "#replaces \"bat\" with \"rat\" (because zero-indexing)\n",
    "animals[2] = \"rat\"\n",
    "\n",
    "animals"
   ]
  },
  {
   "cell_type": "code",
   "execution_count": 29,
   "metadata": {},
   "outputs": [
    {
     "data": {
      "text/plain": [
       "['dog', 'cat', 'rat', 'ibex']"
      ]
     },
     "execution_count": 29,
     "metadata": {},
     "output_type": "execute_result"
    }
   ],
   "source": [
    "#appends \"ibex\" to the end of the list.\n",
    "animals.append(\"ibex\")\n",
    "\n",
    "animals"
   ]
  },
  {
   "cell_type": "code",
   "execution_count": 31,
   "metadata": {},
   "outputs": [
    {
     "data": {
      "text/plain": [
       "['cat', 'dog', 'ibex', 'rat']"
      ]
     },
     "execution_count": 31,
     "metadata": {},
     "output_type": "execute_result"
    }
   ],
   "source": [
    "#sorts the list alphabetically (or numerically if integer/float)\n",
    "animals.sort()\n",
    "\n",
    "animals"
   ]
  },
  {
   "cell_type": "code",
   "execution_count": 32,
   "metadata": {},
   "outputs": [
    {
     "data": {
      "text/plain": [
       "0"
      ]
     },
     "execution_count": 32,
     "metadata": {},
     "output_type": "execute_result"
    }
   ],
   "source": [
    " #tells you what index position an item is at\n",
    "animals.index(\"cat\")"
   ]
  },
  {
   "cell_type": "code",
   "execution_count": 33,
   "metadata": {},
   "outputs": [
    {
     "data": {
      "text/plain": [
       "['cat', 'llama', 'dog', 'ibex', 'rat']"
      ]
     },
     "execution_count": 33,
     "metadata": {},
     "output_type": "execute_result"
    }
   ],
   "source": [
    " #inserts \"llama\" into index position 1. Everything after that gets knocked on 1 place\n",
    "animals.insert(1, \"llama\")\n",
    "\n",
    "animals"
   ]
  },
  {
   "cell_type": "code",
   "execution_count": 34,
   "metadata": {},
   "outputs": [
    {
     "data": {
      "text/plain": [
       "'ibex'"
      ]
     },
     "execution_count": 34,
     "metadata": {},
     "output_type": "execute_result"
    }
   ],
   "source": [
    "#removes the item at the denoted index and 'returns' it\n",
    "animals.pop(3)"
   ]
  },
  {
   "cell_type": "code",
   "execution_count": 35,
   "metadata": {},
   "outputs": [
    {
     "data": {
      "text/plain": [
       "['cat', 'llama', 'dog', 'rat']"
      ]
     },
     "execution_count": 35,
     "metadata": {},
     "output_type": "execute_result"
    }
   ],
   "source": [
    "animals"
   ]
  },
  {
   "cell_type": "code",
   "execution_count": 36,
   "metadata": {},
   "outputs": [],
   "source": [
    "#removes the item at the denoted index but doesn't return it\n",
    "del(animals[3])"
   ]
  },
  {
   "cell_type": "code",
   "execution_count": 37,
   "metadata": {},
   "outputs": [],
   "source": [
    "#removes the item if it finds it\n",
    "animals.remove(\"dog\")"
   ]
  },
  {
   "cell_type": "code",
   "execution_count": 38,
   "metadata": {},
   "outputs": [
    {
     "data": {
      "text/plain": [
       "['cat']"
      ]
     },
     "execution_count": 38,
     "metadata": {},
     "output_type": "execute_result"
    }
   ],
   "source": [
    "#calls all the info at index positions from 0 to 1 (not including 1), in steps of 1. NOTE: if you don't set \n",
    "#the step (i.e. animals[0:1]) Python assumes you mean in steps of 1.\n",
    "animals[0:1:1] "
   ]
  },
  {
   "cell_type": "code",
   "execution_count": 39,
   "metadata": {},
   "outputs": [],
   "source": [
    "#You can also have lists within lists:\n",
    "mammals = [\"dog\", \"cat\", \"bat\"]\n",
    "birds = [\"parrot\", \"budgie\", \"eagle\"]\n",
    "reptiles = [\"chameleon\", \"komodo dragon\", \"gecko\"]\n",
    "fish = [\"sturgeon\", \"marlin\", \"shark\"]\n",
    "planet_earth =[mammals, birds, reptiles, fish]"
   ]
  },
  {
   "cell_type": "code",
   "execution_count": 40,
   "metadata": {},
   "outputs": [
    {
     "data": {
      "text/plain": [
       "[['dog', 'cat', 'bat'],\n",
       " ['parrot', 'budgie', 'eagle'],\n",
       " ['chameleon', 'komodo dragon', 'gecko'],\n",
       " ['sturgeon', 'marlin', 'shark']]"
      ]
     },
     "execution_count": 40,
     "metadata": {},
     "output_type": "execute_result"
    }
   ],
   "source": [
    "planet_earth"
   ]
  },
  {
   "cell_type": "code",
   "execution_count": 41,
   "metadata": {},
   "outputs": [
    {
     "data": {
      "text/plain": [
       "['parrot', 'budgie', 'eagle']"
      ]
     },
     "execution_count": 41,
     "metadata": {},
     "output_type": "execute_result"
    }
   ],
   "source": [
    "planet_earth[1]"
   ]
  },
  {
   "cell_type": "code",
   "execution_count": 42,
   "metadata": {},
   "outputs": [
    {
     "data": {
      "text/plain": [
       "['sturgeon', 'marlin', 'shark']"
      ]
     },
     "execution_count": 42,
     "metadata": {},
     "output_type": "execute_result"
    }
   ],
   "source": [
    "planet_earth [3]"
   ]
  },
  {
   "cell_type": "markdown",
   "metadata": {},
   "source": [
    "Using two square brackets after each other finds the item on the list that is nested in the other list"
   ]
  },
  {
   "cell_type": "code",
   "execution_count": 43,
   "metadata": {},
   "outputs": [
    {
     "data": {
      "text/plain": [
       "'budgie'"
      ]
     },
     "execution_count": 43,
     "metadata": {},
     "output_type": "execute_result"
    }
   ],
   "source": [
    "planet_earth [1][1]"
   ]
  },
  {
   "cell_type": "code",
   "execution_count": 44,
   "metadata": {},
   "outputs": [
    {
     "data": {
      "text/plain": [
       "'bat'"
      ]
     },
     "execution_count": 44,
     "metadata": {},
     "output_type": "execute_result"
    }
   ],
   "source": [
    "planet_earth [0][2]"
   ]
  },
  {
   "cell_type": "markdown",
   "metadata": {},
   "source": [
    "Each of the results can be stored - they're objects in and of themselves. So let's store an index position as a variable, then use that variable to do something with a list."
   ]
  },
  {
   "cell_type": "code",
   "execution_count": 64,
   "metadata": {},
   "outputs": [],
   "source": [
    "cat_index = animals.index(\"cat\")"
   ]
  },
  {
   "cell_type": "code",
   "execution_count": 65,
   "metadata": {},
   "outputs": [],
   "source": [
    "animals.insert(cat_index, \"cobra\")"
   ]
  },
  {
   "cell_type": "code",
   "execution_count": 68,
   "metadata": {},
   "outputs": [
    {
     "data": {
      "text/plain": [
       "['cobra', 'cat', 'llama']"
      ]
     },
     "execution_count": 68,
     "metadata": {},
     "output_type": "execute_result"
    }
   ],
   "source": [
    "animals"
   ]
  },
  {
   "cell_type": "code",
   "execution_count": 71,
   "metadata": {},
   "outputs": [],
   "source": [
    "BuJo = [\"pen\", \"journal\", \"fineliner\"]"
   ]
  },
  {
   "cell_type": "code",
   "execution_count": 73,
   "metadata": {},
   "outputs": [],
   "source": [
    "BuJo.append(\"stencil\")"
   ]
  },
  {
   "cell_type": "code",
   "execution_count": 75,
   "metadata": {},
   "outputs": [
    {
     "data": {
      "text/plain": [
       "['pen', 'journal', 'fineliner', 'stencil']"
      ]
     },
     "execution_count": 75,
     "metadata": {},
     "output_type": "execute_result"
    }
   ],
   "source": [
    "BuJo"
   ]
  },
  {
   "cell_type": "code",
   "execution_count": 77,
   "metadata": {},
   "outputs": [],
   "source": [
    "BuJo.insert(2, \"brush pen\")"
   ]
  },
  {
   "cell_type": "code",
   "execution_count": 78,
   "metadata": {},
   "outputs": [
    {
     "data": {
      "text/plain": [
       "'stencil'"
      ]
     },
     "execution_count": 78,
     "metadata": {},
     "output_type": "execute_result"
    }
   ],
   "source": [
    "BuJo.pop(4)"
   ]
  },
  {
   "cell_type": "code",
   "execution_count": 79,
   "metadata": {},
   "outputs": [],
   "source": [
    "del(BuJo[0])"
   ]
  },
  {
   "cell_type": "code",
   "execution_count": 80,
   "metadata": {},
   "outputs": [],
   "source": [
    "BuJo.remove(\"fineliner\")"
   ]
  },
  {
   "cell_type": "code",
   "execution_count": 81,
   "metadata": {},
   "outputs": [
    {
     "data": {
      "text/plain": [
       "['journal', 'brush pen']"
      ]
     },
     "execution_count": 81,
     "metadata": {},
     "output_type": "execute_result"
    }
   ],
   "source": [
    "BuJo"
   ]
  },
  {
   "cell_type": "markdown",
   "metadata": {},
   "source": [
    "#### Number lists"
   ]
  },
  {
   "cell_type": "code",
   "execution_count": 82,
   "metadata": {},
   "outputs": [],
   "source": [
    "num_list = [387, 729, 730, 94, 727, 535, 367, 59, 446, 740, 588, 307, 225, 956,\n",
    "            175, 961, 332, 731, 875, 362, 53, 738, 647, 258, 888, 421, 941,\n",
    "            710, 955, 192, 935, 93, 335, 748, 987, 20, 937, 404, 191, 586, 847,\n",
    "            906, 6, 504, 821, 218, 532, 688, 358, 568, 22, 245, 573, 689, 942,\n",
    "            171, 15, 781, 353, 856, 17, 697, 879, 845, 877, 968, 279, 547, 935,\n",
    "            331, 660, 725, 394, 617, 874, 648, 863, 53, 59, 494, 178, 650, 113,\n",
    "            141, 215, 616, 811, 377, 745, 349, 898, 944, 286, 183, 307, 910,\n",
    "            910, 348, 922, 111, 409, 549, 883, 633, 899, 414, 827, 446, 132,\n",
    "            125, 371, 281, 496, 224, 828, 942, 350, 424, 9, 1000, 354, 932,\n",
    "            130, 137, 43, 362, 392, 188, 514, 247, 142, 914, 899, 204, 83, 565,\n",
    "            499, 422, 872, 346, 62, 317, 776, 619, 325, 789, 721, 530, 925,\n",
    "            135, 637, 935, 185, 491, 880, 38, 235, 720, 566, 633, 609, 372,\n",
    "            280, 223, 26, 956, 918, 5, 899, 775, 318, 391, 596, 783, 144, 370,\n",
    "            699, 86, 856, 3, 660, 547, 887, 894, 824, 118, 941, 13, 22, 855,\n",
    "            575, 570, 278, 631, 693, 530, 797, 468, 422, 517, 30, 264, 162,\n",
    "            712, 627, 345, 23, 41, 195, 986, 200, 642, 708, 203, 817, 767,\n",
    "            142, 892, 722, 852, 554, 112, 42, 171, 497, 211, 198, 677, 697,\n",
    "            375, 477, 292, 449, 572, 96, 997, 778, 677, 200, 528, 944, 84,\n",
    "            685, 564, 978, 826, 436, 919, 716, 866, 47, 115, 859, 613, 378,\n",
    "            890, 939, 533, 709, 669, 777, 506, 197, 483, 716, 790, 736, 290,\n",
    "            185, 766, 824, 446, 334, 990, 972, 676, 345, 553, 658, 360, 697,\n",
    "            58, 651, 306, 980, 238, 107, 612, 173, 350, 38, 69, 611, 628,\n",
    "            197, 678, 73, 950, 409, 234, 536, 575, 867, 727, 736, 157, 363,\n",
    "            704, 606, 732, 904, 901, 600, 718, 949, 992, 28, 242, 39, 570,\n",
    "            430, 673, 786, 764, 230, 821, 927, 997, 242, 103, 30, 349, 71,\n",
    "            199, 369, 476, 534, 465, 382, 307, 414, 94, 654, 336, 977, 151,\n",
    "            100, 815, 405, 164, 357, 5, 335, 183, 408, 549, 836, 184, 968,\n",
    "            464, 889, 820, 65, 227, 149, 902, 480, 712, 996, 718, 198, 324,\n",
    "            748, 180, 864, 697, 247, 887, 318, 952, 228, 593, 246, 707, 676,\n",
    "            192, 931, 566, 274, 614, 658, 730, 255, 996, 112, 228, 858, 998,\n",
    "            994, 196, 207, 426, 891, 180, 812, 743, 67, 360, 521, 876, 530,\n",
    "            89, 899, 718, 941, 869, 485, 252, 194, 998, 929, 687, 648, 745,\n",
    "            586, 534, 8, 759, 667, 867, 379, 172, 115, 576, 743, 270, 945,\n",
    "            144, 184, 742, 923, 536, 205, 367, 502, 987, 297, 54, 426, 156,\n",
    "            278, 574, 440, 391, 440, 734, 608, 839, 993, 140, 504, 405, 912,\n",
    "            57, 15, 503, 69, 921, 925, 426, 813, 862, 355, 318, 731, 2, 609,\n",
    "            848, 722, 35, 930, 646, 903, 7, 475, 889, 95, 285, 523, 823, 641,\n",
    "            257, 372, 614, 729, 296, 237, 202, 764, 927, 385, 982, 49, 317,\n",
    "            983, 483, 651, 471, 246, 340, 837, 701, 345, 413, 528, 163, 93,\n",
    "            57, 466, 911, 131, 580, 30, 196, 667, 508, 423, 306, 163, 971,\n",
    "            282, 915, 423, 156, 480, 464, 976, 748, 72, 641, 451, 486, 442,\n",
    "            315, 407, 70, 907, 220, 906, 398, 753, 911, 490, 39, 172, 509,\n",
    "            417, 450, 786, 68, 596, 422, 403, 175, 739, 306, 314, 253, 485,\n",
    "            733, 782, 219, 65, 666, 468, 927, 666, 323, 271, 553, 911, 844,\n",
    "            384, 792, 534, 288, 658, 941, 78, 404, 808, 535, 336, 26, 192,\n",
    "            769, 606, 383, 6, 148, 340, 52, 169, 619, 836, 495, 333, 240,\n",
    "            399, 881, 462, 543, 104, 623, 377, 651, 345, 33, 285, 692, 509,\n",
    "            169, 315, 250, 72, 648, 326, 766, 776, 513, 43, 473, 464, 581,\n",
    "            563, 492, 977, 944, 774, 309, 6, 784, 945, 583, 813, 993, 55,\n",
    "            408, 45, 852, 100, 413, 156, 9, 832, 203, 513, 976, 231, 114,\n",
    "            638, 825, 498, 837, 153, 203, 781, 549, 621, 759, 363, 48, 187,\n",
    "            512, 472, 983, 993, 71, 215, 976, 395, 294, 188, 6, 930, 473,\n",
    "            134, 329, 674, 293, 154, 758, 328, 587, 655, 387, 413, 354, 282,\n",
    "            161, 704, 45, 280, 312, 456, 754, 942, 609, 398, 661, 456, 296,\n",
    "            195, 24, 642, 364, 958, 462, 481, 102, 480, 443, 516, 631, 109,\n",
    "            533, 254, 65, 249, 18, 479, 710, 129, 84, 345, 268, 177, 530,\n",
    "            965, 107, 180, 934, 451, 725, 789, 341, 668, 262, 8, 183, 246,\n",
    "            464, 734, 349, 271, 801, 550, 749, 822, 610, 649, 525, 557, 635,\n",
    "            812, 969, 26, 812, 977, 314, 29, 989, 668, 651, 158]"
   ]
  },
  {
   "cell_type": "code",
   "execution_count": 83,
   "metadata": {},
   "outputs": [
    {
     "data": {
      "text/plain": [
       "775"
      ]
     },
     "execution_count": 83,
     "metadata": {},
     "output_type": "execute_result"
    }
   ],
   "source": [
    "#Number of things in this list:\n",
    "len(num_list)"
   ]
  },
  {
   "cell_type": "code",
   "execution_count": 86,
   "metadata": {},
   "outputs": [],
   "source": [
    "new_list = num_list[-1:-21:-1]"
   ]
  },
  {
   "cell_type": "code",
   "execution_count": 87,
   "metadata": {},
   "outputs": [],
   "source": [
    "new_list.sort()"
   ]
  },
  {
   "cell_type": "code",
   "execution_count": 88,
   "metadata": {},
   "outputs": [
    {
     "data": {
      "text/plain": [
       "[26,\n",
       " 29,\n",
       " 158,\n",
       " 314,\n",
       " 525,\n",
       " 550,\n",
       " 557,\n",
       " 610,\n",
       " 635,\n",
       " 649,\n",
       " 651,\n",
       " 668,\n",
       " 749,\n",
       " 801,\n",
       " 812,\n",
       " 812,\n",
       " 822,\n",
       " 969,\n",
       " 977,\n",
       " 989]"
      ]
     },
     "execution_count": 88,
     "metadata": {},
     "output_type": "execute_result"
    }
   ],
   "source": [
    "new_list"
   ]
  },
  {
   "cell_type": "code",
   "execution_count": 91,
   "metadata": {},
   "outputs": [
    {
     "data": {
      "text/plain": [
       "981"
      ]
     },
     "execution_count": 91,
     "metadata": {},
     "output_type": "execute_result"
    }
   ],
   "source": [
    "#Range of the first 50 items\n",
    "max(num_list[0:50])-min(num_list[0:50])"
   ]
  },
  {
   "cell_type": "code",
   "execution_count": 92,
   "metadata": {},
   "outputs": [],
   "source": [
    "#And if we inserted a number and did the same thing, the outcome would be different:\n",
    "num_list.insert(30, 5000)"
   ]
  },
  {
   "cell_type": "code",
   "execution_count": 93,
   "metadata": {},
   "outputs": [
    {
     "data": {
      "text/plain": [
       "4994"
      ]
     },
     "execution_count": 93,
     "metadata": {},
     "output_type": "execute_result"
    }
   ],
   "source": [
    "max(num_list[0:50])-min(num_list[0:50])"
   ]
  },
  {
   "cell_type": "markdown",
   "metadata": {},
   "source": [
    "* Break the first 25 numbers in num_list up into batches of 5, each stored in\n",
    "  a list of its own.\n",
    "* Then compile those 5 mini lists into a bigger one.\n",
    "* Then, can you tell me what the third element of the fourth list is?\n",
    "\n",
    "Remember that there is a 0-position. That means that the third element on the fourth list is actually position 3,2."
   ]
  },
  {
   "cell_type": "markdown",
   "metadata": {},
   "source": [
    "list1 = num_list[0:5]\n",
    "list2 = num_list[5:10]\n",
    "list3 = num_list[10:15]\n",
    "list4 = num_list[15:20]\n",
    "list5 = num_list[20:25]"
   ]
  },
  {
   "cell_type": "code",
   "execution_count": 104,
   "metadata": {},
   "outputs": [],
   "source": [
    "list_of_lists = [list1, list2, list3, list4, list5]"
   ]
  },
  {
   "cell_type": "code",
   "execution_count": 110,
   "metadata": {},
   "outputs": [
    {
     "data": {
      "text/plain": [
       "731"
      ]
     },
     "execution_count": 110,
     "metadata": {},
     "output_type": "execute_result"
    }
   ],
   "source": [
    "list_of_lists [3][2]"
   ]
  },
  {
   "cell_type": "code",
   "execution_count": 108,
   "metadata": {},
   "outputs": [
    {
     "data": {
      "text/plain": [
       "[[387, 729, 730, 94, 727],\n",
       " [535, 367, 59, 446, 740],\n",
       " [588, 307, 225, 956, 175],\n",
       " [961, 332, 731, 875, 362],\n",
       " [53, 738, 647, 258, 888]]"
      ]
     },
     "execution_count": 108,
     "metadata": {},
     "output_type": "execute_result"
    }
   ],
   "source": [
    "list_of_lists"
   ]
  },
  {
   "cell_type": "markdown",
   "metadata": {},
   "source": [
    "## Tuples"
   ]
  },
  {
   "cell_type": "markdown",
   "metadata": {},
   "source": [
    "Tuples are basically just lists that can't be altered with mathods unlike lists. "
   ]
  },
  {
   "cell_type": "code",
   "execution_count": 111,
   "metadata": {},
   "outputs": [
    {
     "data": {
      "text/plain": [
       "10"
      ]
     },
     "execution_count": 111,
     "metadata": {},
     "output_type": "execute_result"
    }
   ],
   "source": [
    "my_tuple = (0, 10, 30)\n",
    "my_tuple[1]"
   ]
  },
  {
   "cell_type": "code",
   "execution_count": 112,
   "metadata": {},
   "outputs": [],
   "source": [
    "age = 32\n",
    "location = \"Manchester\"\n",
    "hairstyle = \"bald\"\n",
    "energy_level = 0.1\n",
    "\n",
    "Phil = (age, location, hairstyle, energy_level)"
   ]
  },
  {
   "cell_type": "code",
   "execution_count": 113,
   "metadata": {},
   "outputs": [
    {
     "data": {
      "text/plain": [
       "(32, 'Manchester', 'bald', 0.1)"
      ]
     },
     "execution_count": 113,
     "metadata": {},
     "output_type": "execute_result"
    }
   ],
   "source": [
    "Phil"
   ]
  },
  {
   "cell_type": "markdown",
   "metadata": {},
   "source": [
    "You can always assign them to a variable: my_tuple_extract = my_tuple[1]. Then that variable can be altered and played with. Len() also works with tuples since it doesn't try to alter the data. "
   ]
  },
  {
   "cell_type": "code",
   "execution_count": 114,
   "metadata": {},
   "outputs": [
    {
     "data": {
      "text/plain": [
       "4"
      ]
     },
     "execution_count": 114,
     "metadata": {},
     "output_type": "execute_result"
    }
   ],
   "source": [
    "len(Phil)"
   ]
  },
  {
   "cell_type": "markdown",
   "metadata": {},
   "source": [
    "## Dictionaries"
   ]
  },
  {
   "cell_type": "markdown",
   "metadata": {},
   "source": [
    "Dictionaries are unordered sets of objects which means that they aren't ordered after numbered positions. The objects in a dictionary consists of a key (a label) and a value (bit of data). Keys and values are linked by colons and objects are seperated by comma. Dictionaries are made with curly brackets. "
   ]
  },
  {
   "cell_type": "code",
   "execution_count": 115,
   "metadata": {},
   "outputs": [],
   "source": [
    "animal_dict = {\"dog\": \"woof\",\n",
    "               \"bird\": \"tweet\",\n",
    "               \"cow\": \"moo\",\n",
    "               \"pig\": \"oink\",\n",
    "               \"turtle\": \"?\"}"
   ]
  },
  {
   "cell_type": "code",
   "execution_count": 117,
   "metadata": {},
   "outputs": [
    {
     "data": {
      "text/plain": [
       "{'dog': 'woof',\n",
       " 'bird': 'tweet',\n",
       " 'cow': 'moo',\n",
       " 'pig': 'oink',\n",
       " 'turtle': '?',\n",
       " 'fish': 'glub'}"
      ]
     },
     "execution_count": 117,
     "metadata": {},
     "output_type": "execute_result"
    }
   ],
   "source": [
    "#Add new entry\n",
    "animal_dict[\"fish\"] = \"glub\"\n",
    "\n",
    "animal_dict"
   ]
  },
  {
   "cell_type": "code",
   "execution_count": 118,
   "metadata": {},
   "outputs": [],
   "source": [
    "#Delete an entry\n",
    "del animal_dict[\"fish\"]"
   ]
  },
  {
   "cell_type": "code",
   "execution_count": 120,
   "metadata": {},
   "outputs": [
    {
     "data": {
      "text/plain": [
       "{'dog': 'woof', 'bird': 'squawk', 'cow': 'moo', 'pig': 'oink', 'turtle': '?'}"
      ]
     },
     "execution_count": 120,
     "metadata": {},
     "output_type": "execute_result"
    }
   ],
   "source": [
    "#Change an entry\n",
    "animal_dict[\"bird\"] = \"squawk\"\n",
    "\n",
    "animal_dict"
   ]
  },
  {
   "cell_type": "code",
   "execution_count": 121,
   "metadata": {},
   "outputs": [
    {
     "name": "stdout",
     "output_type": "stream",
     "text": [
      "woof\n"
     ]
    }
   ],
   "source": [
    "#Print value of key\n",
    "print(animal_dict[\"dog\"])"
   ]
  },
  {
   "cell_type": "code",
   "execution_count": 122,
   "metadata": {},
   "outputs": [
    {
     "data": {
      "text/plain": [
       "dict_items([('dog', 'woof'), ('bird', 'squawk'), ('cow', 'moo'), ('pig', 'oink'), ('turtle', '?')])"
      ]
     },
     "execution_count": 122,
     "metadata": {},
     "output_type": "execute_result"
    }
   ],
   "source": [
    "#breaks up dict into items, prints them #METADATA\n",
    "animal_dict.items()"
   ]
  },
  {
   "cell_type": "code",
   "execution_count": 123,
   "metadata": {},
   "outputs": [
    {
     "data": {
      "text/plain": [
       "dict_keys(['dog', 'bird', 'cow', 'pig', 'turtle'])"
      ]
     },
     "execution_count": 123,
     "metadata": {},
     "output_type": "execute_result"
    }
   ],
   "source": [
    "#Print keys\n",
    "animal_dict.keys()"
   ]
  },
  {
   "cell_type": "code",
   "execution_count": 125,
   "metadata": {},
   "outputs": [
    {
     "data": {
      "text/plain": [
       "dict_values(['woof', 'squawk', 'moo', 'oink', '?'])"
      ]
     },
     "execution_count": 125,
     "metadata": {},
     "output_type": "execute_result"
    }
   ],
   "source": [
    "#Print values\n",
    "animal_dict.values()"
   ]
  },
  {
   "cell_type": "markdown",
   "metadata": {},
   "source": [
    "You can embed lists within dictionaries, dictionaries with dictionaries,\n",
    "dictionaries within lists, tuples within dictionaries within lists within lists,\n",
    "etc...complex data structures and hierarchies! Below, you can see an example of\n",
    "how to put a dictionary within another dictionary, and how to pull information\n",
    "out of it - this applies also to lists (except for lists, you will be using\n",
    "numerical index positions rather than string keys)."
   ]
  },
  {
   "cell_type": "code",
   "execution_count": 126,
   "metadata": {},
   "outputs": [],
   "source": [
    "dict1 = {\"first thing\": 1, \"second thing\": 2, \"third thing\": 3}\n",
    "dict2 = {\"dict_within_dict\": dict1}"
   ]
  },
  {
   "cell_type": "code",
   "execution_count": 127,
   "metadata": {},
   "outputs": [
    {
     "data": {
      "text/plain": [
       "2"
      ]
     },
     "execution_count": 127,
     "metadata": {},
     "output_type": "execute_result"
    }
   ],
   "source": [
    "dict2[\"dict_within_dict\"][\"second thing\"]"
   ]
  },
  {
   "cell_type": "markdown",
   "metadata": {},
   "source": [
    "### Dictionary of you"
   ]
  },
  {
   "cell_type": "markdown",
   "metadata": {},
   "source": [
    "EXERCISE:\n",
    "(1) Write a dictionary (with your name as the variable name) that stores your\n",
    "following attributes:\n",
    "    * Date of birth\n",
    "    * Place of birth\n",
    "    * Favourite TV show\n",
    "    * Favourite film"
   ]
  },
  {
   "cell_type": "code",
   "execution_count": 136,
   "metadata": {},
   "outputs": [],
   "source": [
    "Stephanie = {\"Date of birth\": \"October 14, 1997\", \"Place of birth\": \"Køge\", \"Favorite drama\": \"Dream High\",\n",
    "             \"Favorite movie\": \"Harry Potter\"}"
   ]
  },
  {
   "cell_type": "code",
   "execution_count": 129,
   "metadata": {},
   "outputs": [
    {
     "data": {
      "text/plain": [
       "{'Date of birth': 'October 14, 1997',\n",
       " 'Place of birth': 'Køge',\n",
       " 'Favorite drama': 'Dream High',\n",
       " 'Favorite movie': 'Harry Potter'}"
      ]
     },
     "execution_count": 129,
     "metadata": {},
     "output_type": "execute_result"
    }
   ],
   "source": [
    "Stephanie"
   ]
  },
  {
   "cell_type": "code",
   "execution_count": 137,
   "metadata": {},
   "outputs": [
    {
     "data": {
      "text/plain": [
       "{'Date of birth': 'October 14, 1997',\n",
       " 'Place of birth': 'Køge',\n",
       " 'Favorite drama': 'Dream High',\n",
       " 'Favorite movie': 'Harry Potter',\n",
       " 'Favorite band': 'Infinite'}"
      ]
     },
     "execution_count": 137,
     "metadata": {},
     "output_type": "execute_result"
    }
   ],
   "source": [
    "#(2) Add a key and value to your dictionary denoting your favourite band\n",
    "\n",
    "Stephanie [\"Favorite band\"] = \"Infinite\"\n",
    "\n",
    "Stephanie"
   ]
  },
  {
   "cell_type": "code",
   "execution_count": 138,
   "metadata": {},
   "outputs": [],
   "source": [
    "#(3) Delete the \"Place of birth\" field and replace it with one called \"Current residence\"\n",
    "\n",
    "del Stephanie [\"Place of birth\"]\n",
    "\n",
    "Stephanie[\"Current residence\"] = \"Hvidovre\""
   ]
  },
  {
   "cell_type": "code",
   "execution_count": 139,
   "metadata": {},
   "outputs": [
    {
     "data": {
      "text/plain": [
       "{'Date of birth': 'October 14, 1997',\n",
       " 'Favorite drama': 'Dream High',\n",
       " 'Favorite movie': 'Harry Potter',\n",
       " 'Favorite band': 'Infinite',\n",
       " 'Current residence': 'Hvidovre'}"
      ]
     },
     "execution_count": 139,
     "metadata": {},
     "output_type": "execute_result"
    }
   ],
   "source": [
    "Stephanie"
   ]
  },
  {
   "cell_type": "code",
   "execution_count": 140,
   "metadata": {},
   "outputs": [],
   "source": [
    "#(4) Create an empty dictionary in a variable titled the name of your favourite\n",
    "#album by your favourite band/artist.\n",
    "\n",
    "Top_Seed = {}"
   ]
  },
  {
   "cell_type": "code",
   "execution_count": 154,
   "metadata": {},
   "outputs": [
    {
     "data": {
      "text/plain": [
       "{'Year of release': 2018, 'Number of tracks': 12}"
      ]
     },
     "execution_count": 154,
     "metadata": {},
     "output_type": "execute_result"
    }
   ],
   "source": [
    "#(5) Within this new dictionary, use dictionary methods to populate the\n",
    "#dictionary with the following keys (and give them values):\n",
    "    #Year of release\n",
    "    #Number of tracks\n",
    "#Do steps (4) and (5) for two or three albums by that band.\n",
    "\n",
    "Top_Seed [\"Year of release\"] = 2018\n",
    "Top_Seed [\"Number of tracks\"] = 12\n",
    "\n",
    "Top_Seed"
   ]
  },
  {
   "cell_type": "code",
   "execution_count": 145,
   "metadata": {},
   "outputs": [],
   "source": [
    "Reality = {}"
   ]
  },
  {
   "cell_type": "code",
   "execution_count": 146,
   "metadata": {},
   "outputs": [
    {
     "data": {
      "text/plain": [
       "{'Year of release': 2015, 'Number of tracks': 7}"
      ]
     },
     "execution_count": 146,
     "metadata": {},
     "output_type": "execute_result"
    }
   ],
   "source": [
    "Reality [\"Year of release\"] = 2015\n",
    "Reality [\"Number of tracks\"] = 7\n",
    "\n",
    "Reality"
   ]
  },
  {
   "cell_type": "code",
   "execution_count": 148,
   "metadata": {},
   "outputs": [],
   "source": [
    "Another_Me = {}"
   ]
  },
  {
   "cell_type": "code",
   "execution_count": 150,
   "metadata": {},
   "outputs": [
    {
     "data": {
      "text/plain": [
       "{'Year of release': 2012, 'Number of tracks': 6}"
      ]
     },
     "execution_count": 150,
     "metadata": {},
     "output_type": "execute_result"
    }
   ],
   "source": [
    "Another_Me [\"Year of release\"] = 2012\n",
    "Another_Me [\"Number of tracks\"] = 6\n",
    "\n",
    "Another_Me"
   ]
  },
  {
   "cell_type": "code",
   "execution_count": 155,
   "metadata": {},
   "outputs": [
    {
     "data": {
      "text/plain": [
       "{'Another Me': {'Year of release': 2012, 'Number of tracks': 6},\n",
       " 'Reality': {'Year of release': 2015, 'Number of tracks': 7},\n",
       " 'Top Seed': {'Year of release': 2018, 'Number of tracks': 12}}"
      ]
     },
     "execution_count": 155,
     "metadata": {},
     "output_type": "execute_result"
    }
   ],
   "source": [
    "#(6) Add these albums to a new dictionary called \"favourite albums\".\n",
    "\n",
    "Favorite_albums = {}\n",
    "Favorite_albums [\"Another Me\"] = Another_Me\n",
    "Favorite_albums [\"Reality\"] = Reality\n",
    "Favorite_albums [\"Top Seed\"] = Top_Seed\n",
    "\n",
    "Favorite_albums"
   ]
  },
  {
   "cell_type": "code",
   "execution_count": 156,
   "metadata": {},
   "outputs": [
    {
     "data": {
      "text/plain": [
       "{'Date of birth': 'October 14, 1997',\n",
       " 'Favorite drama': 'Dream High',\n",
       " 'Favorite movie': 'Harry Potter',\n",
       " 'Favorite band': 'Infinite',\n",
       " 'Current residence': 'Hvidovre',\n",
       " 'Favorite Albums': {'Another Me': {'Year of release': 2012,\n",
       "   'Number of tracks': 6},\n",
       "  'Reality': {'Year of release': 2015, 'Number of tracks': 7},\n",
       "  'Top Seed': {'Year of release': 2018, 'Number of tracks': 12}}}"
      ]
     },
     "execution_count": 156,
     "metadata": {},
     "output_type": "execute_result"
    }
   ],
   "source": [
    "#(7) Write \"favourite_albums\" into your original dictionary\n",
    "\n",
    "Stephanie[\"Favorite Albums\"] = Favorite_albums\n",
    "\n",
    "Stephanie"
   ]
  },
  {
   "cell_type": "code",
   "execution_count": 157,
   "metadata": {},
   "outputs": [
    {
     "data": {
      "text/plain": [
       "'Harry Potter'"
      ]
     },
     "execution_count": 157,
     "metadata": {},
     "output_type": "execute_result"
    }
   ],
   "source": [
    "#(8) See if you can call specific single bits of information in your big\n",
    "#dictionary of dictionaries using keys - what is your favourite film? What's\n",
    "#the year of release of one of your favourite albums?\n",
    "\n",
    "Stephanie[\"Favorite movie\"]"
   ]
  },
  {
   "cell_type": "code",
   "execution_count": 159,
   "metadata": {},
   "outputs": [
    {
     "data": {
      "text/plain": [
       "7"
      ]
     },
     "execution_count": 159,
     "metadata": {},
     "output_type": "execute_result"
    }
   ],
   "source": [
    "Stephanie[\"Favorite Albums\"][\"Reality\"][\"Number of tracks\"]"
   ]
  },
  {
   "cell_type": "code",
   "execution_count": 160,
   "metadata": {},
   "outputs": [
    {
     "data": {
      "text/plain": [
       "dict_keys(['Date of birth', 'Favorite drama', 'Favorite movie', 'Favorite band', 'Current residence', 'Favorite Albums'])"
      ]
     },
     "execution_count": 160,
     "metadata": {},
     "output_type": "execute_result"
    }
   ],
   "source": [
    "#(9) See if you can print out the keys and values of your big dictionary.\n",
    "Stephanie.keys()"
   ]
  },
  {
   "cell_type": "code",
   "execution_count": 161,
   "metadata": {},
   "outputs": [
    {
     "data": {
      "text/plain": [
       "dict_values(['October 14, 1997', 'Dream High', 'Harry Potter', 'Infinite', 'Hvidovre', {'Another Me': {'Year of release': 2012, 'Number of tracks': 6}, 'Reality': {'Year of release': 2015, 'Number of tracks': 7}, 'Top Seed': {'Year of release': 2018, 'Number of tracks': 12}}])"
      ]
     },
     "execution_count": 161,
     "metadata": {},
     "output_type": "execute_result"
    }
   ],
   "source": [
    "Stephanie.values()"
   ]
  },
  {
   "cell_type": "code",
   "execution_count": 162,
   "metadata": {},
   "outputs": [
    {
     "name": "stdout",
     "output_type": "stream",
     "text": [
      "{'Date of birth': 'October 14, 1997', 'Favorite drama': 'Dream High', 'Favorite movie': 'Harry Potter', 'Favorite band': 'Infinite', 'Current residence': 'Hvidovre', 'Favorite Albums': {'Another Me': {'Year of release': 2012, 'Number of tracks': 6}, 'Reality': {'Year of release': 2015, 'Number of tracks': 7}, 'Top Seed': {'Year of release': 2018, 'Number of tracks': 12}}}\n"
     ]
    }
   ],
   "source": [
    "print(Stephanie)"
   ]
  },
  {
   "cell_type": "markdown",
   "metadata": {},
   "source": [
    "## Strings and String Methods"
   ]
  },
  {
   "cell_type": "code",
   "execution_count": 163,
   "metadata": {},
   "outputs": [],
   "source": [
    "new_string = \"this IS a SliGhtly more ComplicaTed strINg\""
   ]
  },
  {
   "cell_type": "code",
   "execution_count": 164,
   "metadata": {},
   "outputs": [
    {
     "data": {
      "text/plain": [
       "'h'"
      ]
     },
     "execution_count": 164,
     "metadata": {},
     "output_type": "execute_result"
    }
   ],
   "source": [
    "#Calls the letter at index position one (i.e. the second letter)\n",
    "new_string[1]"
   ]
  },
  {
   "cell_type": "code",
   "execution_count": 165,
   "metadata": {},
   "outputs": [
    {
     "data": {
      "text/plain": [
       "'this'"
      ]
     },
     "execution_count": 165,
     "metadata": {},
     "output_type": "execute_result"
    }
   ],
   "source": [
    "#First four characters\n",
    "new_string[0:4]"
   ]
  },
  {
   "cell_type": "code",
   "execution_count": 166,
   "metadata": {},
   "outputs": [
    {
     "data": {
      "text/plain": [
       "'IS a SliGhtly more ComplicaTed strINg'"
      ]
     },
     "execution_count": 166,
     "metadata": {},
     "output_type": "execute_result"
    }
   ],
   "source": [
    "#Everything including the 5th character\n",
    "new_string[5:]"
   ]
  },
  {
   "cell_type": "code",
   "execution_count": 167,
   "metadata": {},
   "outputs": [
    {
     "data": {
      "text/plain": [
       "'ti SaSihl oeCmlcTdsrN'"
      ]
     },
     "execution_count": 167,
     "metadata": {},
     "output_type": "execute_result"
    }
   ],
   "source": [
    "#calls all characters in steps of 2 (i.e. every other character)\n",
    "new_string[::2]"
   ]
  },
  {
   "cell_type": "code",
   "execution_count": 169,
   "metadata": {},
   "outputs": [
    {
     "data": {
      "text/plain": [
       "'gNIrts de'"
      ]
     },
     "execution_count": 169,
     "metadata": {},
     "output_type": "execute_result"
    }
   ],
   "source": [
    "#calls the last ten letters in steps of -1 (i.e. reverse)\n",
    "new_string[-1:-10:-1]"
   ]
  },
  {
   "cell_type": "code",
   "execution_count": 170,
   "metadata": {},
   "outputs": [
    {
     "data": {
      "text/plain": [
       "42"
      ]
     },
     "execution_count": 170,
     "metadata": {},
     "output_type": "execute_result"
    }
   ],
   "source": [
    "len(new_string)"
   ]
  },
  {
   "cell_type": "code",
   "execution_count": 172,
   "metadata": {},
   "outputs": [
    {
     "name": "stdout",
     "output_type": "stream",
     "text": [
      "First Bit. Second Bit.\n"
     ]
    }
   ],
   "source": [
    "string1 = \"First Bit.\"\n",
    "space = \" \"\n",
    "string2 = \"Second Bit.\"\n",
    "print(string1 + space + string2)"
   ]
  },
  {
   "cell_type": "code",
   "execution_count": 173,
   "metadata": {},
   "outputs": [
    {
     "data": {
      "text/plain": [
       "'first bit.'"
      ]
     },
     "execution_count": 173,
     "metadata": {},
     "output_type": "execute_result"
    }
   ],
   "source": [
    "#Lower case\n",
    "string1.lower()"
   ]
  },
  {
   "cell_type": "code",
   "execution_count": 174,
   "metadata": {},
   "outputs": [
    {
     "data": {
      "text/plain": [
       "'FIRST BIT.'"
      ]
     },
     "execution_count": 174,
     "metadata": {},
     "output_type": "execute_result"
    }
   ],
   "source": [
    "#Upper case\n",
    "string1.upper()"
   ]
  },
  {
   "cell_type": "code",
   "execution_count": 175,
   "metadata": {},
   "outputs": [
    {
     "data": {
      "text/plain": [
       "['First', 'Bit.']"
      ]
     },
     "execution_count": 175,
     "metadata": {},
     "output_type": "execute_result"
    }
   ],
   "source": [
    "#takes each item, puts it in a list as an individual item.\n",
    "string1.split()"
   ]
  },
  {
   "cell_type": "code",
   "execution_count": 179,
   "metadata": {},
   "outputs": [],
   "source": [
    "#You can also put strings together via methods other than concatenation:\n",
    "#the %s denotes a placeholder for a string. This is more useful than it looks.\n",
    "\n",
    "string4 = \"is cool.\"\n",
    "string5 = \"Programming %s\" %string4 "
   ]
  },
  {
   "cell_type": "code",
   "execution_count": 180,
   "metadata": {},
   "outputs": [
    {
     "data": {
      "text/plain": [
       "'Programming is cool.'"
      ]
     },
     "execution_count": 180,
     "metadata": {},
     "output_type": "execute_result"
    }
   ],
   "source": [
    "string5"
   ]
  },
  {
   "cell_type": "markdown",
   "metadata": {},
   "source": [
    "There are other placeholders that can be used:\n",
    "* %s string\n",
    "* %i or %d integer\n",
    "* %f float"
   ]
  },
  {
   "cell_type": "code",
   "execution_count": 181,
   "metadata": {},
   "outputs": [
    {
     "name": "stdout",
     "output_type": "stream",
     "text": [
      "Hi, my name is Phil and I'm 32 years old.\n"
     ]
    }
   ],
   "source": [
    "print(\"Hi, my name is %s and I'm %d years old.\" %(\"Phil\", 32))"
   ]
  },
  {
   "cell_type": "markdown",
   "metadata": {},
   "source": [
    "Slicing when it comes to strings works with the command string[0:10:2].\n",
    "\n",
    "0 is the starting point of the slicing, alas the index position. So in this case, the slicing starts at the very beginning of the word. \n",
    "\n",
    "10 means the place we want to stop. So this slicing will include position 9, but not 10. There will be 10 characters in the slicing because of zero indexing. \n",
    "\n",
    "2 sets the steps. In this case, 2, it means that it'll take every other character. Therefore, 5 characters will be shown. "
   ]
  },
  {
   "cell_type": "code",
   "execution_count": 182,
   "metadata": {},
   "outputs": [],
   "source": [
    "#In the shell, can you get Python to produce a print of new_string that is\n",
    "#properly punctuated (i.e. capitals in the right place, full stop at the end)?\n",
    "\n",
    "#Can you then print it out backwards?"
   ]
  },
  {
   "cell_type": "code",
   "execution_count": 183,
   "metadata": {},
   "outputs": [],
   "source": [
    "uppercase_bit = new_string[0].upper()"
   ]
  },
  {
   "cell_type": "code",
   "execution_count": 184,
   "metadata": {},
   "outputs": [
    {
     "data": {
      "text/plain": [
       "'T'"
      ]
     },
     "execution_count": 184,
     "metadata": {},
     "output_type": "execute_result"
    }
   ],
   "source": [
    "uppercase_bit"
   ]
  },
  {
   "cell_type": "code",
   "execution_count": 185,
   "metadata": {},
   "outputs": [],
   "source": [
    "lowercase_bit = new_string[1:].lower()"
   ]
  },
  {
   "cell_type": "code",
   "execution_count": 186,
   "metadata": {},
   "outputs": [
    {
     "data": {
      "text/plain": [
       "'his is a slightly more complicated string'"
      ]
     },
     "execution_count": 186,
     "metadata": {},
     "output_type": "execute_result"
    }
   ],
   "source": [
    "lowercase_bit"
   ]
  },
  {
   "cell_type": "code",
   "execution_count": 187,
   "metadata": {},
   "outputs": [
    {
     "name": "stdout",
     "output_type": "stream",
     "text": [
      "This is a slightly more complicated string.\n"
     ]
    }
   ],
   "source": [
    "print(uppercase_bit + lowercase_bit + \".\")"
   ]
  },
  {
   "cell_type": "code",
   "execution_count": 189,
   "metadata": {},
   "outputs": [
    {
     "name": "stdout",
     "output_type": "stream",
     "text": [
      "This is a slightly more complicated string.\n"
     ]
    }
   ],
   "source": [
    "#Or\n",
    "print(new_string[0].upper() + new_string[1:].lower() + \".\")"
   ]
  },
  {
   "cell_type": "code",
   "execution_count": 192,
   "metadata": {},
   "outputs": [
    {
     "data": {
      "text/plain": [
       "'.gnirts detacilpmoc erom ylthgils a si sihT'"
      ]
     },
     "execution_count": 192,
     "metadata": {},
     "output_type": "execute_result"
    }
   ],
   "source": [
    "clean_string = uppercase_bit + lowercase_bit + \".\"\n",
    "clean_string[-1::-1]"
   ]
  }
 ],
 "metadata": {
  "kernelspec": {
   "display_name": "Python 3",
   "language": "python",
   "name": "python3"
  },
  "language_info": {
   "codemirror_mode": {
    "name": "ipython",
    "version": 3
   },
   "file_extension": ".py",
   "mimetype": "text/x-python",
   "name": "python",
   "nbconvert_exporter": "python",
   "pygments_lexer": "ipython3",
   "version": "3.7.4"
  }
 },
 "nbformat": 4,
 "nbformat_minor": 2
}
