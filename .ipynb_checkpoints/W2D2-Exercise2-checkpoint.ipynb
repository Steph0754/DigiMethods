{
 "cells": [
  {
   "cell_type": "markdown",
   "metadata": {},
   "source": [
    "# Exercise 2: Basic Python 2\n",
    "\n",
    "Builds on exercises provided with Programming with Python for Social Science by Phillip Brooker and from Social Data Science 2019 by Andreas Bjerre-Nielson\n",
    "\n",
    "## 2.1 Lists\n",
    "\n",
    "**Question 2.1.1**: make two lists, `mammals` and `reptiles`with respectively \"dog\",\"cat\",\"dolphin\" and \"gecko\",\"monitor lizard\",\"iguana\". What is the index of \"iguana\" in `reptiles`?"
   ]
  },
  {
   "cell_type": "code",
   "execution_count": 1,
   "metadata": {},
   "outputs": [],
   "source": [
    "#Answer to question 2.1.1\n",
    "mammals = [\"dog\", \"cat\", \"dolphin\"]\n",
    "reptiles = [\"gecko\", \"moniter lizard\", \"iguana\"]"
   ]
  },
  {
   "cell_type": "markdown",
   "metadata": {},
   "source": [
    "**Question 2.1.2**: make a list `animals` which consist of first `mammals`, then `reptiles`. \n",
    "Hint: See what happens when you `+` two lists together. "
   ]
  },
  {
   "cell_type": "code",
   "execution_count": 46,
   "metadata": {},
   "outputs": [
    {
     "name": "stdout",
     "output_type": "stream",
     "text": [
      "['dog', 'cat', 'dolphin', 'gecko', 'komodo dragon', 'iguana']\n"
     ]
    }
   ],
   "source": [
    "#Answer to question 2.1.2\n",
    "animals = mammals + reptiles\n",
    "\n",
    "print(animals)"
   ]
  },
  {
   "cell_type": "markdown",
   "metadata": {},
   "source": [
    "**Question 2.1.3**: Create list `some_reptiles` that contains only the second and third elements of `reptiles`. "
   ]
  },
  {
   "cell_type": "code",
   "execution_count": 7,
   "metadata": {},
   "outputs": [
    {
     "name": "stdout",
     "output_type": "stream",
     "text": [
      "['moniter lizard', 'iguana']\n"
     ]
    }
   ],
   "source": [
    "#Answer to question 2.1.3\n",
    "some_reptiles = [reptiles[1], reptiles[2]]\n",
    "\n",
    "print(some_reptiles)"
   ]
  },
  {
   "cell_type": "markdown",
   "metadata": {},
   "source": [
    "**Question 2.1.4**: replace the second element of `reptiles` with \"komodo dragon\". What are the values of `some_reptiles` now?"
   ]
  },
  {
   "cell_type": "code",
   "execution_count": 9,
   "metadata": {},
   "outputs": [
    {
     "name": "stdout",
     "output_type": "stream",
     "text": [
      "['gecko', 'komodo dragon', 'iguana']\n",
      "['moniter lizard', 'iguana']\n"
     ]
    }
   ],
   "source": [
    "#Answer to question 2.1.4\n",
    "reptiles[1] = \"komodo dragon\"\n",
    "\n",
    "print(reptiles)\n",
    "print(some_reptiles)"
   ]
  },
  {
   "cell_type": "markdown",
   "metadata": {},
   "source": [
    "**Question 2.1.5**: Create a list `animals2` that contains nested lists `mammals` and `reptiles`. How would you access the element \"dolphin\"?"
   ]
  },
  {
   "cell_type": "code",
   "execution_count": 15,
   "metadata": {},
   "outputs": [
    {
     "name": "stdout",
     "output_type": "stream",
     "text": [
      "[['dog', 'cat', 'dolphin'], ['gecko', 'komodo dragon', 'iguana']]\n"
     ]
    },
    {
     "data": {
      "text/plain": [
       "'dolphin'"
      ]
     },
     "execution_count": 15,
     "metadata": {},
     "output_type": "execute_result"
    }
   ],
   "source": [
    "#Answer to question 2.1.5\n",
    "animals2 = [mammals, reptiles]\n",
    "\n",
    "print(animals2)\n",
    "\n",
    "#Access dolphin:\n",
    "animals2 [0][2]"
   ]
  },
  {
   "cell_type": "markdown",
   "metadata": {},
   "source": [
    "**Question 2.1.6**: What is the length of `animals` versus `animals2`? Why? "
   ]
  },
  {
   "cell_type": "code",
   "execution_count": 18,
   "metadata": {},
   "outputs": [
    {
     "data": {
      "text/plain": [
       "2"
      ]
     },
     "execution_count": 18,
     "metadata": {},
     "output_type": "execute_result"
    }
   ],
   "source": [
    "#Answer to question 2.1.6\n",
    "\n",
    "len(animals)\n",
    "len(animals2)\n",
    "\n",
    "#The length is 6 for the first one and 2 for the second one. The reason is that two lists were combined in the\n",
    "#first one, meaning that there are 6 animals, while the other one contains two seperate lists."
   ]
  },
  {
   "cell_type": "markdown",
   "metadata": {},
   "source": [
    "**Question 2.1.7**: Take the list below (it is the population of Denmark on Jan 1 from 1901 to 2020 in 1000s).\n",
    "\n",
    "How many elements are in the list? \n",
    "\n",
    "What is the range of the first 10 items? \n",
    "\n",
    "What is the range for elements between indices 80 and 90 (i.e. 1981 - 1991)? \n",
    "\n",
    "What was the population in 1904 (Hint: This is the fourth element in the list)"
   ]
  },
  {
   "cell_type": "code",
   "execution_count": 22,
   "metadata": {},
   "outputs": [
    {
     "data": {
      "text/plain": [
       "2532"
      ]
     },
     "execution_count": 22,
     "metadata": {},
     "output_type": "execute_result"
    }
   ],
   "source": [
    "#Data from https://www.statbank.dk/10021\n",
    "DK_population =[2447,2477,2506,2532,2560,2589,2621,2652,2687,2722,\n",
    "                2757,2788,2820,2851,2886,2921,2958,2991,3027,3061,\n",
    "                3265,3306,3340,3372,3406,3439,3467,3487,3510,3531,\n",
    "                3557,3590,3620,3651,3683,3711,3738,3765,3794,3826,\n",
    "                3849,3882,3926,3973,4023,4075,4123,4168,4211,4252,\n",
    "                4285,4315,4349,4389,4424,4454,4479,4501,4532,4566,\n",
    "                4601,4630,4666,4703,4741,4779,4820,4855,4879,4907,\n",
    "                4951,4976,5008,5036,5054,5065,5080,5097,5112,5122,\n",
    "                5124,5119,5116,5112,5111,5116,5125,5129,5130,5135,\n",
    "                5146,5162,5181,5197,5216,5251,5275,5295,5314,5330,\n",
    "                5349,5368,5384,5398,5411,5427,5447,5476,5511,5535,\n",
    "                5561,5581,5603,5627,5660,5707,5749,5781,5806,5823]\n",
    "\n",
    "#Answer to Question 2.1.8\n",
    "\n",
    "length = len(DK_population)\n",
    "#The length is 120 numbers.\n",
    "\n",
    "range_of_first_10 = max(DK_population[0:10])-min(DK_population[0:10])\n",
    "#The range of the first 10 items is 275. \n",
    "\n",
    "range_80_90 = max(DK_population[80:91])-min(DK_population[80:91])\n",
    "range_80_90\n",
    "#The range is 35\n",
    "\n",
    "DK_population[3]\n",
    "#The population was 2532 in 1904."
   ]
  },
  {
   "cell_type": "markdown",
   "metadata": {},
   "source": [
    "## 2.2 More Strings\n",
    "\n",
    "**Question 2.2.1**: Let `s1 = 'Chameleon`. From the string `s1` select the last four characters. What is the index of the character `a` in `s1`?\n",
    "\n",
    "*Hint*: We can selecting a substring by slicing it with the `[]` notation, from the start to end where start is included and end is excluded. Recall that Python has zero-based indexing, see explanation [here](https://softwareengineering.stackexchange.com/questions/110804/why-are-zero-based-arrays-the-norm).   "
   ]
  },
  {
   "cell_type": "code",
   "execution_count": 38,
   "metadata": {},
   "outputs": [
    {
     "data": {
      "text/plain": [
       "'leon'"
      ]
     },
     "execution_count": 38,
     "metadata": {},
     "output_type": "execute_result"
    }
   ],
   "source": [
    "#Answer to question 2.2.1\n",
    "s1 = \"Chameleon\"\n",
    "s1[-4:]\n",
    "\n",
    "#The index of \"a\" would be 2 because of 0 indexing.  "
   ]
  },
  {
   "cell_type": "markdown",
   "metadata": {},
   "source": [
    "**Quesion 2.2.2**: Let `my_url` be a url of your choice. Retrieve the part of a string before a specified character. \n",
    "For example, if your URL is the link for our course: https://kurser.ku.dk/course/aana18119u/2019-2020 and specific character is '/', then you should retrieve https://kurser.ku.dk/course/aana18119u. \n",
    "\n",
    "Remember that you can consult the [documentation for strings](https://docs.python.org/2.5/lib/string-methods.html) to find relevant methods "
   ]
  },
  {
   "cell_type": "code",
   "execution_count": 45,
   "metadata": {},
   "outputs": [
    {
     "data": {
      "text/plain": [
       "'https://www.youtube.com'"
      ]
     },
     "execution_count": 45,
     "metadata": {},
     "output_type": "execute_result"
    }
   ],
   "source": [
    "#Answer to question 2.2.2\n",
    "\n",
    "my_url = \"https://www.youtube.com/watch?v=L7kaScuQ0KM&list=RDwvdFJyHDWXE&index=27\"\n",
    "my_url.rsplit('/',1)[0]"
   ]
  },
  {
   "cell_type": "markdown",
   "metadata": {},
   "source": [
    "## 2.3 Conditions and Loops\n",
    "\n",
    "**Question 2.3.1**: Revisit your script workflow from the previous assignment (Question 1.4.3). For which part of your script would you need to use a loop? What kind of loop would you use?"
   ]
  },
  {
   "cell_type": "code",
   "execution_count": 181,
   "metadata": {},
   "outputs": [],
   "source": [
    "#Answer to question 2.3.1\n",
    "#The mornig routine repeats every morning, so it could be used at the beginning \"if it's morning then...\" and that\n",
    "#could be check in a loop."
   ]
  },
  {
   "cell_type": "markdown",
   "metadata": {},
   "source": [
    "**Question 2.3.2**: Using the list of population size `DK_population` from above, calculate the average population of Denmark from year 1901 to 2020 (the whole list) using a loop. Round to the nearest whole number."
   ]
  },
  {
   "cell_type": "code",
   "execution_count": 55,
   "metadata": {},
   "outputs": [
    {
     "name": "stdout",
     "output_type": "stream",
     "text": [
      "4362.975\n"
     ]
    }
   ],
   "source": [
    "#Answer to question 2.3.2\n",
    "avg_pop = 0\n",
    "number = 0\n",
    "\n",
    "while number<len(DK_population):\n",
    "    avg_pop += DK_population[number]\n",
    "    number += 1\n",
    "\n",
    "avg_pop /= len(DK_population)\n",
    "\n",
    "print(avg_pop)"
   ]
  },
  {
   "cell_type": "code",
   "execution_count": 44,
   "metadata": {},
   "outputs": [
    {
     "data": {
      "text/plain": [
       "4363"
      ]
     },
     "execution_count": 44,
     "metadata": {},
     "output_type": "execute_result"
    }
   ],
   "source": [
    "round(avg_pop)\n",
    "\n",
    "#The average of the list is 4363.\n",
    "#What happens in the loop is:\n",
    "# The operater += which is basically the same as writing my_var = my_var + 1.\n"
   ]
  },
  {
   "cell_type": "markdown",
   "metadata": {},
   "source": [
    "**Question 2.3.3**: Suppose you want your population size list to show the full population, not represented in the 1000s (i.e. 2447 should really be 2447000). Using a loop, create a new list `DK_population_long` where the elements show the full population. If you used a for loop for Question 2.3.2 then use a while loop for this question, or vice versa. "
   ]
  },
  {
   "cell_type": "code",
   "execution_count": 36,
   "metadata": {},
   "outputs": [
    {
     "name": "stdout",
     "output_type": "stream",
     "text": [
      "[2447000, 2477000, 2506000, 2532000, 2560000, 2589000, 2621000, 2652000, 2687000, 2722000, 2757000, 2788000, 2820000, 2851000, 2886000, 2921000, 2958000, 2991000, 3027000, 3061000, 3265000, 3306000, 3340000, 3372000, 3406000, 3439000, 3467000, 3487000, 3510000, 3531000, 3557000, 3590000, 3620000, 3651000, 3683000, 3711000, 3738000, 3765000, 3794000, 3826000, 3849000, 3882000, 3926000, 3973000, 4023000, 4075000, 4123000, 4168000, 4211000, 4252000, 4285000, 4315000, 4349000, 4389000, 4424000, 4454000, 4479000, 4501000, 4532000, 4566000, 4601000, 4630000, 4666000, 4703000, 4741000, 4779000, 4820000, 4855000, 4879000, 4907000, 4951000, 4976000, 5008000, 5036000, 5054000, 5065000, 5080000, 5097000, 5112000, 5122000, 5124000, 5119000, 5116000, 5112000, 5111000, 5116000, 5125000, 5129000, 5130000, 5135000, 5146000, 5162000, 5181000, 5197000, 5216000, 5251000, 5275000, 5295000, 5314000, 5330000, 5349000, 5368000, 5384000, 5398000, 5411000, 5427000, 5447000, 5476000, 5511000, 5535000, 5561000, 5581000, 5603000, 5627000, 5660000, 5707000, 5749000, 5781000, 5806000, 5823000]\n"
     ]
    }
   ],
   "source": [
    "DK_population_long = []\n",
    "for num in DK_population:\n",
    "    DK_population_long.append(num*1000)\n",
    "\n",
    "print(DK_population_long)"
   ]
  },
  {
   "cell_type": "markdown",
   "metadata": {},
   "source": [
    "## 2.4 Dictionaries\n",
    "**Question 2.4.1**: Take the list of population size `DK_population` above and make a Dictionary called `DK_population_dict` with keys year and population (with the appropriate values). Recall that the data represents 1901 to 2020.  "
   ]
  },
  {
   "cell_type": "code",
   "execution_count": 74,
   "metadata": {},
   "outputs": [
    {
     "name": "stdout",
     "output_type": "stream",
     "text": [
      "{1901: 2447, 1902: 2477, 1903: 2506, 1904: 2532, 1905: 2560, 1906: 2589, 1907: 2621, 1908: 2652, 1909: 2687, 1910: 2722, 1911: 2757, 1912: 2788, 1913: 2820, 1914: 2851, 1915: 2886, 1916: 2921, 1917: 2958, 1918: 2991, 1919: 3027, 1920: 3061, 1921: 3265, 1922: 3306, 1923: 3340, 1924: 3372, 1925: 3406, 1926: 3439, 1927: 3467, 1928: 3487, 1929: 3510, 1930: 3531, 1931: 3557, 1932: 3590, 1933: 3620, 1934: 3651, 1935: 3683, 1936: 3711, 1937: 3738, 1938: 3765, 1939: 3794, 1940: 3826, 1941: 3849, 1942: 3882, 1943: 3926, 1944: 3973, 1945: 4023, 1946: 4075, 1947: 4123, 1948: 4168, 1949: 4211, 1950: 4252, 1951: 4285, 1952: 4315, 1953: 4349, 1954: 4389, 1955: 4424, 1956: 4454, 1957: 4479, 1958: 4501, 1959: 4532, 1960: 4566, 1961: 4601, 1962: 4630, 1963: 4666, 1964: 4703, 1965: 4741, 1966: 4779, 1967: 4820, 1968: 4855, 1969: 4879, 1970: 4907, 1971: 4951, 1972: 4976, 1973: 5008, 1974: 5036, 1975: 5054, 1976: 5065, 1977: 5080, 1978: 5097, 1979: 5112, 1980: 5122, 1981: 5124, 1982: 5119, 1983: 5116, 1984: 5112, 1985: 5111, 1986: 5116, 1987: 5125, 1988: 5129, 1989: 5130, 1990: 5135, 1991: 5146, 1992: 5162, 1993: 5181, 1994: 5197, 1995: 5216, 1996: 5251, 1997: 5275, 1998: 5295, 1999: 5314, 2000: 5330, 2001: 5349, 2002: 5368, 2003: 5384, 2004: 5398, 2005: 5411, 2006: 5427, 2007: 5447, 2008: 5476, 2009: 5511, 2010: 5535, 2011: 5561, 2012: 5581, 2013: 5603, 2014: 5627, 2015: 5660, 2016: 5707, 2017: 5749, 2018: 5781, 2019: 5806, 2020: 5823}\n"
     ]
    }
   ],
   "source": [
    "#Answer to question 2.4.1\n",
    "keys = list(range(1901, 2021))\n",
    "key_values = list(zip(keys, DK_population))\n",
    "\n",
    "DK_population_dict = dict(key_values)\n",
    "print (DK_population_dict)"
   ]
  },
  {
   "cell_type": "markdown",
   "metadata": {},
   "source": [
    "**Question 2.4.2**: What was the population in the year 1950?"
   ]
  },
  {
   "cell_type": "code",
   "execution_count": 76,
   "metadata": {},
   "outputs": [
    {
     "data": {
      "text/plain": [
       "4252"
      ]
     },
     "execution_count": 76,
     "metadata": {},
     "output_type": "execute_result"
    }
   ],
   "source": [
    "#Answer to question 2.4.2\n",
    "\n",
    "DK_population_dict[1950]"
   ]
  },
  {
   "cell_type": "markdown",
   "metadata": {},
   "source": [
    "**Question 2.4.3**: Write a dictionary called `my_dictionary` that stores:\n",
    "- Your favourite animal\n",
    "- Your favourite colour\n",
    "- Your favourite TV Show\n",
    "- Your favourite film"
   ]
  },
  {
   "cell_type": "code",
   "execution_count": 84,
   "metadata": {},
   "outputs": [],
   "source": [
    "#Answer to question 2.4.3\n",
    "my_dictionary = {\"Favorite animal\": \"cat\", \"Favorite color\": \"blue\", \"Favorite drama\": \"Dream High\",\n",
    "             \"Favorite movie\": \"Harry Potter\"}"
   ]
  },
  {
   "cell_type": "markdown",
   "metadata": {},
   "source": [
    "**Question 2.4.4**: Add a key and value to the your dictionary from 2.4.3 with your favourite band or artist. "
   ]
  },
  {
   "cell_type": "code",
   "execution_count": 85,
   "metadata": {},
   "outputs": [
    {
     "data": {
      "text/plain": [
       "{'Favorite animal': 'cat',\n",
       " 'Favorite color': 'blue',\n",
       " 'Favorite drama': 'Dream High',\n",
       " 'Favorite movie': 'Harry Potter',\n",
       " 'Favorite band': 'Infinite'}"
      ]
     },
     "execution_count": 85,
     "metadata": {},
     "output_type": "execute_result"
    }
   ],
   "source": [
    "#Answer to question 2.4.4\n",
    "my_dictionary [\"Favorite band\"] = \"Infinite\"\n",
    "\n",
    "my_dictionary"
   ]
  },
  {
   "cell_type": "markdown",
   "metadata": {},
   "source": [
    "**Question 2.4.5**: \n",
    "1. Delete the favourite film field.\n",
    "2. Create an empty dictionary with the variable name as your favourite movie \n",
    "3. Populate the dictionary with the following keys (and give them values): \n",
    "    - Year\n",
    "    - Genre\n",
    "4. Do steps 2 and 3 for a two or three movies. \n",
    "5. Add the dictionaries of movies to a new dictionary called `favourite_movies` with the movie title as the key for each entry. \n",
    "6. Add `favourite_movies` to your `my_dictionary` under the key \"Favourite movies\"\n",
    "\n"
   ]
  },
  {
   "cell_type": "code",
   "execution_count": 86,
   "metadata": {},
   "outputs": [
    {
     "data": {
      "text/plain": [
       "{'Favorite animal': 'cat',\n",
       " 'Favorite color': 'blue',\n",
       " 'Favorite drama': 'Dream High',\n",
       " 'Favorite band': 'Infinite',\n",
       " 'Favorite movies': {'Harry Potter and the Prisoner of Azkaban': {'Year': 2004,\n",
       "   'Genre': 'Fantasy'},\n",
       "  'Werewolf Boy': {'Year': 2012, 'Genre': 'Fantasy'},\n",
       "  'The Perfect Date': {'Year': 2019, 'Genre': 'Rom-com'}}}"
      ]
     },
     "execution_count": 86,
     "metadata": {},
     "output_type": "execute_result"
    }
   ],
   "source": [
    "#Answer to question 2.4.5\n",
    "del my_dictionary [\"Favorite movie\"]\n",
    "\n",
    "Harry_Potter_3 = {}\n",
    "\n",
    "Harry_Potter_3 [\"Year\"] = 2004\n",
    "Harry_Potter_3 [\"Genre\"] = \"Fantasy\"\n",
    "\n",
    "Werewolf_Boy = {}\n",
    "\n",
    "Werewolf_Boy [\"Year\"] = 2012\n",
    "Werewolf_Boy [\"Genre\"] = \"Fantasy\"\n",
    "\n",
    "The_Perfect_Date = {}\n",
    "\n",
    "The_Perfect_Date [\"Year\"] = 2019\n",
    "The_Perfect_Date [\"Genre\"] = \"Rom-com\"\n",
    "\n",
    "Favorite_movies = {}\n",
    "Favorite_movies [\"Harry Potter and the Prisoner of Azkaban\"] = Harry_Potter_3\n",
    "Favorite_movies [\"Werewolf Boy\"] = Werewolf_Boy\n",
    "Favorite_movies [\"The Perfect Date\"] = The_Perfect_Date\n",
    "\n",
    "my_dictionary [\"Favorite movies\"] = Favorite_movies\n",
    "\n",
    "my_dictionary"
   ]
  },
  {
   "cell_type": "markdown",
   "metadata": {},
   "source": [
    "**Question 2.4.6**: See if you can print out different keys and values from `my_dictionary`. "
   ]
  },
  {
   "cell_type": "code",
   "execution_count": 87,
   "metadata": {},
   "outputs": [
    {
     "data": {
      "text/plain": [
       "'cat'"
      ]
     },
     "execution_count": 87,
     "metadata": {},
     "output_type": "execute_result"
    }
   ],
   "source": [
    "#Answer to question 2.4.6\n",
    "my_dictionary[\"Favorite animal\"]"
   ]
  },
  {
   "cell_type": "code",
   "execution_count": 89,
   "metadata": {},
   "outputs": [
    {
     "data": {
      "text/plain": [
       "{'Year': 2012, 'Genre': 'Fantasy'}"
      ]
     },
     "execution_count": 89,
     "metadata": {},
     "output_type": "execute_result"
    }
   ],
   "source": [
    "my_dictionary[\"Favorite movies\"][\"Werewolf Boy\"]"
   ]
  },
  {
   "cell_type": "markdown",
   "metadata": {},
   "source": [
    "## 2.5 Reflection\n",
    "**Question 2.5.1**: Write a brief paragraph reflecting on your experience learning programming today. What did you struggle with? What did you enjoy? What surprised you?"
   ]
  },
  {
   "cell_type": "markdown",
   "metadata": {},
   "source": [
    "##### Answer to question 2.5.1\n",
    "\n",
    "The things I struggled with this time was zero indexing and loops. For the zero indexing, it's not that it's particularly difficult to rememeber that it exists, but rather to remember when and how it's used. I'm sure this will quickly get easier with a bit of practice, though. Loops, on the other hand, is a bit harder for me. The for loop is logical to me and I managed to work out the exercise on my own, but for the exercise where I used a while loop, I had to follow the examples presented in class closely and I'm still not sure why it works and what number in the line \"avg_pop += DK_population[number]\" actually does.\n",
    "\n",
    "Lists and strings are easier to work with. Although I still have to memorize many of the commands, it makes sense what they do and how everything works within lists and dictionaries. I'm also more or less comfortable with the string methods."
   ]
  },
  {
   "cell_type": "code",
   "execution_count": null,
   "metadata": {},
   "outputs": [],
   "source": []
  }
 ],
 "metadata": {
  "kernelspec": {
   "display_name": "Python 3",
   "language": "python",
   "name": "python3"
  },
  "language_info": {
   "codemirror_mode": {
    "name": "ipython",
    "version": 3
   },
   "file_extension": ".py",
   "mimetype": "text/x-python",
   "name": "python",
   "nbconvert_exporter": "python",
   "pygments_lexer": "ipython3",
   "version": "3.7.4"
  }
 },
 "nbformat": 4,
 "nbformat_minor": 2
}
